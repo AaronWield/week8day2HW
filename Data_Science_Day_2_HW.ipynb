{
 "cells": [
  {
   "cell_type": "markdown",
   "metadata": {},
   "source": [
    "# Exercises"
   ]
  },
  {
   "cell_type": "markdown",
   "metadata": {},
   "source": [
    "### #1 - Find the Average Age of Runners in the Boston Marathon using a Pandas DataFrame"
   ]
  },
  {
   "cell_type": "code",
   "execution_count": 91,
   "metadata": {},
   "outputs": [
    {
     "data": {
      "text/plain": [
       "42.587731919727375"
      ]
     },
     "execution_count": 91,
     "metadata": {},
     "output_type": "execute_result"
    }
   ],
   "source": [
    "import csv\n",
    "import numpy as np\n",
    "import pandas as pd\n",
    "\n",
    "marathon = pd.read_csv('../files/boston_marathon2017_edited.csv', sep = ',')\n",
    "avgAge = marathon['Age'].describe()['mean']\n",
    "avgAge"
   ]
  },
  {
   "cell_type": "markdown",
   "metadata": {},
   "source": [
    "### #2 - Create a UDF <b>\n",
    "<p>Using the Boston Red Sox data, create your own UDF which creates a new column called 'All-Star' and puts every player with either a batting average over .280 or an on base percentage of over .360 with a result of 'Yes' in the column and 'No' if not.</p>"
   ]
  },
  {
   "cell_type": "code",
   "execution_count": 103,
   "metadata": {
    "scrolled": true
   },
   "outputs": [
    {
     "name": "stdout",
     "output_type": "stream",
     "text": [
      "2017\n",
      "                  Name     BA    OBP All-Star\n",
      "0    Christian Vazquez  0.290  0.330      Yes\n",
      "1       Mitch Moreland  0.246  0.326       No\n",
      "2       Dustin Pedroia  0.293  0.369      Yes\n",
      "3      Xander Bogaerts  0.273  0.343       No\n",
      "4        Rafael Devers  0.284  0.338      Yes\n",
      "5    Andrew Benintendi  0.271  0.352       No\n",
      "6   Jackie Bradley Jr.  0.245  0.323       No\n",
      "7         Mookie Betts  0.264  0.344       No\n",
      "8       Hanley Ramirez  0.242  0.320       No\n",
      "9           Sandy Leon  0.225  0.290       No\n",
      "10         Chris Young  0.235  0.322       No\n",
      "11       Deven Marrero  0.211  0.259       No\n",
      "12       Eduardo Nunez  0.321  0.353      Yes\n",
      "13          Brock Holt  0.200  0.305       No\n",
      "14       Josh Rutledge  0.224  0.297       No\n",
      "15      Pablo Sandoval  0.212  0.269       No\n",
      "16          Sam Travis  0.263  0.325       No\n",
      "17         Tzu-Wei Lin  0.268  0.369      Yes\n",
      "18     Marco Hernandez  0.276  0.300       No\n",
      "19         Rajai Davis  0.250  0.289       No\n",
      "20        Steve Selsky  0.111  0.111       No\n",
      "21       Blake Swihart  0.200  0.429      Yes\n",
      "22      Chase d'Arnaud  1.000  1.000      Yes\n",
      "\n",
      "\n",
      "2018\n",
      "                  Name     BA    OBP All-Star\n",
      "0           Sandy Leon  0.177  0.232       No\n",
      "1       Mitch Moreland  0.245  0.325       No\n",
      "2        Eduardo Nunez  0.265  0.289       No\n",
      "3      Xander Bogaerts  0.288  0.360      Yes\n",
      "4        Rafael Devers  0.240  0.298       No\n",
      "5    Andrew Benintendi  0.290  0.366      Yes\n",
      "6   Jackie Bradley Jr.  0.234  0.314       No\n",
      "7         Mookie Betts  0.346  0.438      Yes\n",
      "8        J.D. Martinez  0.330  0.402      Yes\n",
      "9           Brock Holt  0.277  0.362      Yes\n",
      "10   Christian Vazquez  0.207  0.257       No\n",
      "11       Blake Swihart  0.229  0.285       No\n",
      "12      Hanley Ramirez  0.254  0.313       No\n",
      "13        Steve Pearce  0.279  0.394      Yes\n",
      "14         Ian Kinsler  0.242  0.294       No\n",
      "15         Tzu-Wei Lin  0.246  0.329       No\n",
      "16          Sam Travis  0.222  0.263       No\n",
      "17    Brandon Phillips  0.130  0.259       No\n",
      "18      Dustin Pedroia  0.091  0.231       No\n",
      "19          Dan Butler  0.167  0.143       No\n"
     ]
    }
   ],
   "source": [
    "bos2017 = pd.read_csv('../files/redsox_2017_hitting.txt')\n",
    "bos2018 = pd.read_csv('../files/redsox_2018_hitting.txt')\n",
    "\n",
    "def allStarCol(row):\n",
    "    battingAverage = row['BA']\n",
    "    onBasePercentage = row['OBP']\n",
    "    \n",
    "    if battingAverage > 0.280 or onBasePercentage > 0.360:\n",
    "        allStar = 'Yes'\n",
    "    else:\n",
    "        allStar = 'No'\n",
    "        \n",
    "    return allStar\n",
    "\n",
    "bos2017['All-Star'] = bos2017.apply(allStarCol, axis = 1)\n",
    "print('2017')\n",
    "# print(bos2017)\n",
    "print(bos2017[['Name', 'BA', 'OBP', 'All-Star']])\n",
    "\n",
    "print('\\n')\n",
    "\n",
    "bos2018['All-Star'] = bos2018.apply(allStarCol, axis = 1)\n",
    "print('2018')\n",
    "# print(bos2018)\n",
    "print(bos2018[['Name', 'BA', 'OBP', 'All-Star']])\n"
   ]
  },
  {
   "cell_type": "markdown",
   "metadata": {},
   "source": [
    "### #3 - Find the Mean for the Red Sox <br>\n",
    "<p>Compare both years of Red Sox Hitting Data and display the following:</p>\n",
    "<p>Get total number of home runs and rbi's</p>\n",
    "<p>Based on the total number of HR's who had the better year? What about by total RBI's?</p>\n"
   ]
  },
  {
   "cell_type": "code",
   "execution_count": 106,
   "metadata": {},
   "outputs": [
    {
     "name": "stdout",
     "output_type": "stream",
     "text": [
      "2017 Boston team had 168 total home runs.\n",
      "2018 Boston team had 208 total home runs.\n",
      "\n",
      "2017 Boston team had 735 total RBIs.\n",
      "2018 Boston team had 826 total RBIs.\n",
      "\n",
      "2018 team had the better year in terms of total home runs.\n",
      "\n",
      "2018 team had the better year in terms of total RBIs.\n"
     ]
    }
   ],
   "source": [
    "totalHR2017 = sum(bos2017['HR'])\n",
    "print(f'2017 Boston team had {totalHR2017} total home runs.')\n",
    "totalHR2018 = sum(bos2018['HR'])\n",
    "print(f'2018 Boston team had {totalHR2018} total home runs.')\n",
    "\n",
    "\n",
    "totalRBI2017 = sum(bos2017['RBI'])\n",
    "print(f'\\n2017 Boston team had {totalRBI2017} total RBIs.')\n",
    "totalRBI2018 = sum(bos2018['RBI'])\n",
    "print(f'2018 Boston team had {totalRBI2018} total RBIs.')\n",
    "\n",
    "\n",
    "if totalHR2017 > totalHR2018:\n",
    "    print('\\n2017 team had the better year in terms of total home runs.')\n",
    "else:\n",
    "    print('\\n2018 team had the better year in terms of total home runs.')\n",
    "\n",
    "if totalRBI2017 > totalRBI2018:\n",
    "    print('\\n2017 team had the better year in terms of total RBIs.')\n",
    "else:\n",
    "    print('\\n2018 team had the better year in terms of total RBIs.')"
   ]
  },
  {
   "cell_type": "code",
   "execution_count": null,
   "metadata": {},
   "outputs": [],
   "source": []
  }
 ],
 "metadata": {
  "kernelspec": {
   "display_name": "Python 3",
   "language": "python",
   "name": "python3"
  },
  "language_info": {
   "codemirror_mode": {
    "name": "ipython",
    "version": 3
   },
   "file_extension": ".py",
   "mimetype": "text/x-python",
   "name": "python",
   "nbconvert_exporter": "python",
   "pygments_lexer": "ipython3",
   "version": "3.8.8"
  }
 },
 "nbformat": 4,
 "nbformat_minor": 2
}
